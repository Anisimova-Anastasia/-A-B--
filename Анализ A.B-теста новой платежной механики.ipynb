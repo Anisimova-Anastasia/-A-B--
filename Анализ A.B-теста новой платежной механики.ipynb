{
 "cells": [
  {
   "cell_type": "markdown",
   "metadata": {},
   "source": [
    "# Проект: Анализ A/B-теста новой платежной механики"
   ]
  },
  {
   "cell_type": "markdown",
   "metadata": {},
   "source": [
    "Цель:\n",
    "\n",
    "Оценить эффективность новой системы оплаты и принять решение о ее масштабировании на всех пользователей.\n",
    "\n",
    "Задачи:\n",
    "\n",
    "1. Сравнить ключевые бизнес-метрики между контрольной (базовая механика) и тестовой (новая механика) группами\n",
    "2. Выявить статистическую значимость различий\n",
    "3. Дать рекомендации по внедрению\n"
   ]
  },
  {
   "cell_type": "markdown",
   "metadata": {},
   "source": [
    "# Загрузка и предобработка данных"
   ]
  },
  {
   "cell_type": "code",
   "execution_count": 1,
   "metadata": {},
   "outputs": [],
   "source": [
    "import pandas as pd\n",
    "import numpy as np\n",
    "import matplotlib.pyplot as plt\n",
    "import seaborn as sns\n",
    "import scipy.stats as ss \n",
    "import pingouin as pg "
   ]
  },
  {
   "cell_type": "code",
   "execution_count": 2,
   "metadata": {},
   "outputs": [
    {
     "data": {
      "text/html": [
       "<div>\n",
       "<style scoped>\n",
       "    .dataframe tbody tr th:only-of-type {\n",
       "        vertical-align: middle;\n",
       "    }\n",
       "\n",
       "    .dataframe tbody tr th {\n",
       "        vertical-align: top;\n",
       "    }\n",
       "\n",
       "    .dataframe thead th {\n",
       "        text-align: right;\n",
       "    }\n",
       "</style>\n",
       "<table border=\"1\" class=\"dataframe\">\n",
       "  <thead>\n",
       "    <tr style=\"text-align: right;\">\n",
       "      <th></th>\n",
       "      <th>id</th>\n",
       "      <th>grp</th>\n",
       "    </tr>\n",
       "  </thead>\n",
       "  <tbody>\n",
       "    <tr>\n",
       "      <th>0</th>\n",
       "      <td>1489</td>\n",
       "      <td>B</td>\n",
       "    </tr>\n",
       "    <tr>\n",
       "      <th>1</th>\n",
       "      <td>1627</td>\n",
       "      <td>A</td>\n",
       "    </tr>\n",
       "    <tr>\n",
       "      <th>2</th>\n",
       "      <td>1768</td>\n",
       "      <td>B</td>\n",
       "    </tr>\n",
       "    <tr>\n",
       "      <th>3</th>\n",
       "      <td>1783</td>\n",
       "      <td>B</td>\n",
       "    </tr>\n",
       "    <tr>\n",
       "      <th>4</th>\n",
       "      <td>1794</td>\n",
       "      <td>A</td>\n",
       "    </tr>\n",
       "    <tr>\n",
       "      <th>...</th>\n",
       "      <td>...</td>\n",
       "      <td>...</td>\n",
       "    </tr>\n",
       "    <tr>\n",
       "      <th>74479</th>\n",
       "      <td>5692459</td>\n",
       "      <td>B</td>\n",
       "    </tr>\n",
       "    <tr>\n",
       "      <th>74480</th>\n",
       "      <td>5692572</td>\n",
       "      <td>B</td>\n",
       "    </tr>\n",
       "    <tr>\n",
       "      <th>74481</th>\n",
       "      <td>5692865</td>\n",
       "      <td>B</td>\n",
       "    </tr>\n",
       "    <tr>\n",
       "      <th>74482</th>\n",
       "      <td>5693667</td>\n",
       "      <td>B</td>\n",
       "    </tr>\n",
       "    <tr>\n",
       "      <th>74483</th>\n",
       "      <td>5694419</td>\n",
       "      <td>B</td>\n",
       "    </tr>\n",
       "  </tbody>\n",
       "</table>\n",
       "<p>74484 rows × 2 columns</p>\n",
       "</div>"
      ],
      "text/plain": [
       "            id grp\n",
       "0         1489   B\n",
       "1         1627   A\n",
       "2         1768   B\n",
       "3         1783   B\n",
       "4         1794   A\n",
       "...        ...  ..\n",
       "74479  5692459   B\n",
       "74480  5692572   B\n",
       "74481  5692865   B\n",
       "74482  5693667   B\n",
       "74483  5694419   B\n",
       "\n",
       "[74484 rows x 2 columns]"
      ]
     },
     "execution_count": 2,
     "metadata": {},
     "output_type": "execute_result"
    },
    {
     "name": "stderr",
     "output_type": "stream",
     "text": [
      "/opt/tljh/user/lib/python3.7/site-packages/outdated/utils.py:18: OutdatedCacheFailedWarning: Failed to use cache while checking for outdated package.\n",
      "Set the environment variable OUTDATED_RAISE_EXCEPTION=1 for a full traceback.\n",
      "Set the environment variable OUTDATED_IGNORE=1 to disable these warnings.\n",
      "  **kwargs\n",
      "/opt/tljh/user/lib/python3.7/site-packages/outdated/utils.py:18: OutdatedPackageWarning: The package outdated is out of date. Your version is 0.2.1, the latest is 0.2.2.\n",
      "Set the environment variable OUTDATED_IGNORE=1 to disable these warnings.\n",
      "  **kwargs\n"
     ]
    }
   ],
   "source": [
    "# Таблица информацией о принадлежности пользователя к контрольной или экспериментальной группе \n",
    "# (А – контроль, B – целевая группа)\n",
    "groups=pd.read_csv('groups.csv', sep=\";\")\n",
    "groups"
   ]
  },
  {
   "cell_type": "code",
   "execution_count": 3,
   "metadata": {},
   "outputs": [
    {
     "data": {
      "text/html": [
       "<div>\n",
       "<style scoped>\n",
       "    .dataframe tbody tr th:only-of-type {\n",
       "        vertical-align: middle;\n",
       "    }\n",
       "\n",
       "    .dataframe tbody tr th {\n",
       "        vertical-align: top;\n",
       "    }\n",
       "\n",
       "    .dataframe thead th {\n",
       "        text-align: right;\n",
       "    }\n",
       "</style>\n",
       "<table border=\"1\" class=\"dataframe\">\n",
       "  <thead>\n",
       "    <tr style=\"text-align: right;\">\n",
       "      <th></th>\n",
       "      <th>id</th>\n",
       "      <th>grp</th>\n",
       "    </tr>\n",
       "  </thead>\n",
       "  <tbody>\n",
       "    <tr>\n",
       "      <th>0</th>\n",
       "      <td>5694584</td>\n",
       "      <td>B</td>\n",
       "    </tr>\n",
       "    <tr>\n",
       "      <th>1</th>\n",
       "      <td>5694830</td>\n",
       "      <td>B</td>\n",
       "    </tr>\n",
       "    <tr>\n",
       "      <th>2</th>\n",
       "      <td>5695057</td>\n",
       "      <td>B</td>\n",
       "    </tr>\n",
       "    <tr>\n",
       "      <th>3</th>\n",
       "      <td>5698872</td>\n",
       "      <td>B</td>\n",
       "    </tr>\n",
       "    <tr>\n",
       "      <th>4</th>\n",
       "      <td>5699067</td>\n",
       "      <td>B</td>\n",
       "    </tr>\n",
       "    <tr>\n",
       "      <th>...</th>\n",
       "      <td>...</td>\n",
       "      <td>...</td>\n",
       "    </tr>\n",
       "    <tr>\n",
       "      <th>87</th>\n",
       "      <td>200247820</td>\n",
       "      <td>B</td>\n",
       "    </tr>\n",
       "    <tr>\n",
       "      <th>88</th>\n",
       "      <td>201032527</td>\n",
       "      <td>B</td>\n",
       "    </tr>\n",
       "    <tr>\n",
       "      <th>89</th>\n",
       "      <td>201067612</td>\n",
       "      <td>B</td>\n",
       "    </tr>\n",
       "    <tr>\n",
       "      <th>90</th>\n",
       "      <td>201067653</td>\n",
       "      <td>B</td>\n",
       "    </tr>\n",
       "    <tr>\n",
       "      <th>91</th>\n",
       "      <td>201067659</td>\n",
       "      <td>B</td>\n",
       "    </tr>\n",
       "  </tbody>\n",
       "</table>\n",
       "<p>92 rows × 2 columns</p>\n",
       "</div>"
      ],
      "text/plain": [
       "           id grp\n",
       "0     5694584   B\n",
       "1     5694830   B\n",
       "2     5695057   B\n",
       "3     5698872   B\n",
       "4     5699067   B\n",
       "..        ...  ..\n",
       "87  200247820   B\n",
       "88  201032527   B\n",
       "89  201067612   B\n",
       "90  201067653   B\n",
       "91  201067659   B\n",
       "\n",
       "[92 rows x 2 columns]"
      ]
     },
     "execution_count": 3,
     "metadata": {},
     "output_type": "execute_result"
    }
   ],
   "source": [
    "# дополнительный файл с пользователями, который был прислан спустя 2 дня после передачи данных \n",
    "\n",
    "groups_add=pd.read_csv('group_add.csv')\n",
    "groups_add"
   ]
  },
  {
   "cell_type": "code",
   "execution_count": 4,
   "metadata": {},
   "outputs": [
    {
     "name": "stderr",
     "output_type": "stream",
     "text": [
      "/opt/tljh/user/lib/python3.7/site-packages/outdated/utils.py:18: OutdatedCacheFailedWarning: Failed to use cache while checking for outdated package.\n",
      "Set the environment variable OUTDATED_RAISE_EXCEPTION=1 for a full traceback.\n",
      "Set the environment variable OUTDATED_IGNORE=1 to disable these warnings.\n",
      "  **kwargs\n",
      "/opt/tljh/user/lib/python3.7/site-packages/outdated/utils.py:18: OutdatedPackageWarning: The package pingouin is out of date. Your version is 0.4.0, the latest is 0.5.5.\n",
      "Set the environment variable OUTDATED_IGNORE=1 to disable these warnings.\n",
      "  **kwargs\n"
     ]
    },
    {
     "data": {
      "text/html": [
       "<div>\n",
       "<style scoped>\n",
       "    .dataframe tbody tr th:only-of-type {\n",
       "        vertical-align: middle;\n",
       "    }\n",
       "\n",
       "    .dataframe tbody tr th {\n",
       "        vertical-align: top;\n",
       "    }\n",
       "\n",
       "    .dataframe thead th {\n",
       "        text-align: right;\n",
       "    }\n",
       "</style>\n",
       "<table border=\"1\" class=\"dataframe\">\n",
       "  <thead>\n",
       "    <tr style=\"text-align: right;\">\n",
       "      <th></th>\n",
       "      <th>student_id</th>\n",
       "    </tr>\n",
       "  </thead>\n",
       "  <tbody>\n",
       "    <tr>\n",
       "      <th>0</th>\n",
       "      <td>581585</td>\n",
       "    </tr>\n",
       "    <tr>\n",
       "      <th>1</th>\n",
       "      <td>5723133</td>\n",
       "    </tr>\n",
       "    <tr>\n",
       "      <th>2</th>\n",
       "      <td>3276743</td>\n",
       "    </tr>\n",
       "    <tr>\n",
       "      <th>3</th>\n",
       "      <td>4238589</td>\n",
       "    </tr>\n",
       "    <tr>\n",
       "      <th>4</th>\n",
       "      <td>4475369</td>\n",
       "    </tr>\n",
       "    <tr>\n",
       "      <th>...</th>\n",
       "      <td>...</td>\n",
       "    </tr>\n",
       "    <tr>\n",
       "      <th>8336</th>\n",
       "      <td>1794344</td>\n",
       "    </tr>\n",
       "    <tr>\n",
       "      <th>8337</th>\n",
       "      <td>296883</td>\n",
       "    </tr>\n",
       "    <tr>\n",
       "      <th>8338</th>\n",
       "      <td>3598448</td>\n",
       "    </tr>\n",
       "    <tr>\n",
       "      <th>8339</th>\n",
       "      <td>3610547</td>\n",
       "    </tr>\n",
       "    <tr>\n",
       "      <th>8340</th>\n",
       "      <td>205705</td>\n",
       "    </tr>\n",
       "  </tbody>\n",
       "</table>\n",
       "<p>8341 rows × 1 columns</p>\n",
       "</div>"
      ],
      "text/plain": [
       "      student_id\n",
       "0         581585\n",
       "1        5723133\n",
       "2        3276743\n",
       "3        4238589\n",
       "4        4475369\n",
       "...          ...\n",
       "8336     1794344\n",
       "8337      296883\n",
       "8338     3598448\n",
       "8339     3610547\n",
       "8340      205705\n",
       "\n",
       "[8341 rows x 1 columns]"
      ]
     },
     "execution_count": 4,
     "metadata": {},
     "output_type": "execute_result"
    }
   ],
   "source": [
    "# Таблица с информацией о пользователях, которые зашли на платформу в дни проведения эксперимента.\n",
    "\n",
    "active_studs=pd.read_csv('active_studs.csv')\n",
    "active_studs"
   ]
  },
  {
   "cell_type": "code",
   "execution_count": 5,
   "metadata": {
    "scrolled": true
   },
   "outputs": [
    {
     "data": {
      "text/html": [
       "<div>\n",
       "<style scoped>\n",
       "    .dataframe tbody tr th:only-of-type {\n",
       "        vertical-align: middle;\n",
       "    }\n",
       "\n",
       "    .dataframe tbody tr th {\n",
       "        vertical-align: top;\n",
       "    }\n",
       "\n",
       "    .dataframe thead th {\n",
       "        text-align: right;\n",
       "    }\n",
       "</style>\n",
       "<table border=\"1\" class=\"dataframe\">\n",
       "  <thead>\n",
       "    <tr style=\"text-align: right;\">\n",
       "      <th></th>\n",
       "      <th>student_id</th>\n",
       "      <th>rev</th>\n",
       "    </tr>\n",
       "  </thead>\n",
       "  <tbody>\n",
       "    <tr>\n",
       "      <th>0</th>\n",
       "      <td>1627</td>\n",
       "      <td>990.0</td>\n",
       "    </tr>\n",
       "    <tr>\n",
       "      <th>1</th>\n",
       "      <td>3185</td>\n",
       "      <td>690.0</td>\n",
       "    </tr>\n",
       "    <tr>\n",
       "      <th>2</th>\n",
       "      <td>25973</td>\n",
       "      <td>690.0</td>\n",
       "    </tr>\n",
       "    <tr>\n",
       "      <th>3</th>\n",
       "      <td>26280</td>\n",
       "      <td>690.0</td>\n",
       "    </tr>\n",
       "    <tr>\n",
       "      <th>4</th>\n",
       "      <td>100300</td>\n",
       "      <td>990.0</td>\n",
       "    </tr>\n",
       "    <tr>\n",
       "      <th>...</th>\n",
       "      <td>...</td>\n",
       "      <td>...</td>\n",
       "    </tr>\n",
       "    <tr>\n",
       "      <th>536</th>\n",
       "      <td>5645737</td>\n",
       "      <td>1900.0</td>\n",
       "    </tr>\n",
       "    <tr>\n",
       "      <th>537</th>\n",
       "      <td>5651566</td>\n",
       "      <td>1900.0</td>\n",
       "    </tr>\n",
       "    <tr>\n",
       "      <th>538</th>\n",
       "      <td>5662322</td>\n",
       "      <td>1900.0</td>\n",
       "    </tr>\n",
       "    <tr>\n",
       "      <th>539</th>\n",
       "      <td>5681918</td>\n",
       "      <td>1900.0</td>\n",
       "    </tr>\n",
       "    <tr>\n",
       "      <th>540</th>\n",
       "      <td>5740903</td>\n",
       "      <td>1900.0</td>\n",
       "    </tr>\n",
       "  </tbody>\n",
       "</table>\n",
       "<p>541 rows × 2 columns</p>\n",
       "</div>"
      ],
      "text/plain": [
       "     student_id     rev\n",
       "0          1627   990.0\n",
       "1          3185   690.0\n",
       "2         25973   690.0\n",
       "3         26280   690.0\n",
       "4        100300   990.0\n",
       "..          ...     ...\n",
       "536     5645737  1900.0\n",
       "537     5651566  1900.0\n",
       "538     5662322  1900.0\n",
       "539     5681918  1900.0\n",
       "540     5740903  1900.0\n",
       "\n",
       "[541 rows x 2 columns]"
      ]
     },
     "execution_count": 5,
     "metadata": {},
     "output_type": "execute_result"
    }
   ],
   "source": [
    "# Таблица с информацией об оплатах пользователей в дни проведения эксперимента.\n",
    "\n",
    "checks=pd.read_csv('checks.csv', sep=\";\")\n",
    "checks"
   ]
  },
  {
   "cell_type": "markdown",
   "metadata": {},
   "source": [
    "   "
   ]
  },
  {
   "cell_type": "code",
   "execution_count": 6,
   "metadata": {},
   "outputs": [
    {
     "data": {
      "text/html": [
       "<div>\n",
       "<style scoped>\n",
       "    .dataframe tbody tr th:only-of-type {\n",
       "        vertical-align: middle;\n",
       "    }\n",
       "\n",
       "    .dataframe tbody tr th {\n",
       "        vertical-align: top;\n",
       "    }\n",
       "\n",
       "    .dataframe thead th {\n",
       "        text-align: right;\n",
       "    }\n",
       "</style>\n",
       "<table border=\"1\" class=\"dataframe\">\n",
       "  <thead>\n",
       "    <tr style=\"text-align: right;\">\n",
       "      <th></th>\n",
       "      <th>id</th>\n",
       "      <th>grp</th>\n",
       "    </tr>\n",
       "  </thead>\n",
       "  <tbody>\n",
       "    <tr>\n",
       "      <th>0</th>\n",
       "      <td>1489</td>\n",
       "      <td>B</td>\n",
       "    </tr>\n",
       "    <tr>\n",
       "      <th>1</th>\n",
       "      <td>1627</td>\n",
       "      <td>A</td>\n",
       "    </tr>\n",
       "    <tr>\n",
       "      <th>2</th>\n",
       "      <td>1768</td>\n",
       "      <td>B</td>\n",
       "    </tr>\n",
       "    <tr>\n",
       "      <th>3</th>\n",
       "      <td>1783</td>\n",
       "      <td>B</td>\n",
       "    </tr>\n",
       "    <tr>\n",
       "      <th>4</th>\n",
       "      <td>1794</td>\n",
       "      <td>A</td>\n",
       "    </tr>\n",
       "    <tr>\n",
       "      <th>...</th>\n",
       "      <td>...</td>\n",
       "      <td>...</td>\n",
       "    </tr>\n",
       "    <tr>\n",
       "      <th>74571</th>\n",
       "      <td>200247820</td>\n",
       "      <td>B</td>\n",
       "    </tr>\n",
       "    <tr>\n",
       "      <th>74572</th>\n",
       "      <td>201032527</td>\n",
       "      <td>B</td>\n",
       "    </tr>\n",
       "    <tr>\n",
       "      <th>74573</th>\n",
       "      <td>201067612</td>\n",
       "      <td>B</td>\n",
       "    </tr>\n",
       "    <tr>\n",
       "      <th>74574</th>\n",
       "      <td>201067653</td>\n",
       "      <td>B</td>\n",
       "    </tr>\n",
       "    <tr>\n",
       "      <th>74575</th>\n",
       "      <td>201067659</td>\n",
       "      <td>B</td>\n",
       "    </tr>\n",
       "  </tbody>\n",
       "</table>\n",
       "<p>74576 rows × 2 columns</p>\n",
       "</div>"
      ],
      "text/plain": [
       "              id grp\n",
       "0           1489   B\n",
       "1           1627   A\n",
       "2           1768   B\n",
       "3           1783   B\n",
       "4           1794   A\n",
       "...          ...  ..\n",
       "74571  200247820   B\n",
       "74572  201032527   B\n",
       "74573  201067612   B\n",
       "74574  201067653   B\n",
       "74575  201067659   B\n",
       "\n",
       "[74576 rows x 2 columns]"
      ]
     },
     "execution_count": 6,
     "metadata": {},
     "output_type": "execute_result"
    }
   ],
   "source": [
    "# Объединяем группы с дополнительными данными\n",
    "groups_new = pd.concat([groups, groups_add], ignore_index=True)\n",
    "groups_new"
   ]
  },
  {
   "cell_type": "markdown",
   "metadata": {},
   "source": [
    " "
   ]
  },
  {
   "cell_type": "markdown",
   "metadata": {},
   "source": [
    "Проверим на наличие дубликатов"
   ]
  },
  {
   "cell_type": "code",
   "execution_count": 7,
   "metadata": {},
   "outputs": [
    {
     "data": {
      "text/plain": [
       "0"
      ]
     },
     "execution_count": 7,
     "metadata": {},
     "output_type": "execute_result"
    }
   ],
   "source": [
    "groups_new.duplicated(subset='id').sum()"
   ]
  },
  {
   "cell_type": "code",
   "execution_count": 8,
   "metadata": {},
   "outputs": [
    {
     "data": {
      "text/plain": [
       "0"
      ]
     },
     "execution_count": 8,
     "metadata": {},
     "output_type": "execute_result"
    }
   ],
   "source": [
    "active_studs.duplicated().sum()"
   ]
  },
  {
   "cell_type": "code",
   "execution_count": 9,
   "metadata": {},
   "outputs": [
    {
     "data": {
      "text/plain": [
       "0"
      ]
     },
     "execution_count": 9,
     "metadata": {},
     "output_type": "execute_result"
    }
   ],
   "source": [
    "checks.duplicated(subset='student_id').sum()"
   ]
  },
  {
   "cell_type": "markdown",
   "metadata": {},
   "source": [
    "Дубликаты отсутствуют. По таблице groups_new можно это дополнительно проверить, так как она состоит из двух таблиц: groups и присланной через 2 дня после первой groups_add. При мердже по общему ключу не должно быть пересечений (т.е. соответственно и дублей)"
   ]
  },
  {
   "cell_type": "code",
   "execution_count": 10,
   "metadata": {},
   "outputs": [
    {
     "data": {
      "text/html": [
       "<div>\n",
       "<style scoped>\n",
       "    .dataframe tbody tr th:only-of-type {\n",
       "        vertical-align: middle;\n",
       "    }\n",
       "\n",
       "    .dataframe tbody tr th {\n",
       "        vertical-align: top;\n",
       "    }\n",
       "\n",
       "    .dataframe thead th {\n",
       "        text-align: right;\n",
       "    }\n",
       "</style>\n",
       "<table border=\"1\" class=\"dataframe\">\n",
       "  <thead>\n",
       "    <tr style=\"text-align: right;\">\n",
       "      <th></th>\n",
       "      <th>id</th>\n",
       "      <th>grp</th>\n",
       "    </tr>\n",
       "  </thead>\n",
       "  <tbody>\n",
       "  </tbody>\n",
       "</table>\n",
       "</div>"
      ],
      "text/plain": [
       "Empty DataFrame\n",
       "Columns: [id, grp]\n",
       "Index: []"
      ]
     },
     "execution_count": 10,
     "metadata": {},
     "output_type": "execute_result"
    }
   ],
   "source": [
    "pd.merge(groups, groups_add, how='inner') "
   ]
  },
  {
   "cell_type": "markdown",
   "metadata": {},
   "source": [
    "Пересечений нет, значит, те же данные (те же - которые были и по какой-то причине решили отправить по ошибке повторно) нам не доотправляли и можно продолжить дальнейшую работу"
   ]
  },
  {
   "cell_type": "markdown",
   "metadata": {},
   "source": [
    " "
   ]
  },
  {
   "cell_type": "markdown",
   "metadata": {},
   "source": [
    "Проверим на наличие пропущенных значений"
   ]
  },
  {
   "cell_type": "code",
   "execution_count": 11,
   "metadata": {},
   "outputs": [
    {
     "data": {
      "text/plain": [
       "id     0\n",
       "grp    0\n",
       "dtype: int64"
      ]
     },
     "execution_count": 11,
     "metadata": {},
     "output_type": "execute_result"
    }
   ],
   "source": [
    "groups_new.isna().sum()"
   ]
  },
  {
   "cell_type": "code",
   "execution_count": 12,
   "metadata": {},
   "outputs": [
    {
     "data": {
      "text/plain": [
       "student_id    0\n",
       "dtype: int64"
      ]
     },
     "execution_count": 12,
     "metadata": {},
     "output_type": "execute_result"
    }
   ],
   "source": [
    "active_studs.isna().sum()"
   ]
  },
  {
   "cell_type": "code",
   "execution_count": 13,
   "metadata": {},
   "outputs": [
    {
     "data": {
      "text/plain": [
       "student_id    0\n",
       "rev           0\n",
       "dtype: int64"
      ]
     },
     "execution_count": 13,
     "metadata": {},
     "output_type": "execute_result"
    }
   ],
   "source": [
    "checks.isna().sum()"
   ]
  },
  {
   "cell_type": "markdown",
   "metadata": {},
   "source": [
    "Пропущенные значения также отсутствуют, значит, очистка на данном этапе не требуется"
   ]
  },
  {
   "cell_type": "markdown",
   "metadata": {},
   "source": [
    "Проверим таблицы groups_new и checks на наличие аноималий или выбросов, а также распределение данных. active_studs на данный момент дополнительно проверять не требуется, так как содержит айдишники пользователей и предварительный анализ уже сделан"
   ]
  },
  {
   "cell_type": "markdown",
   "metadata": {},
   "source": [
    "Для начала посмотрим на таблицу groups_new. Колонка id уже была проанализирована на пропуски и дубли, других проблем в этих данных пока что быть не может, поэтому сейчас больше всего интересует колонка grp, отвечающая за распределение пользователей к контрольной и тестовой группе. \n",
    "\n",
    "Группа А - контроль (текущая версия продукта - базовая механика оплаты услуг на сайте), \n",
    "В - тест (новая механика оплаты услуг на сайте)"
   ]
  },
  {
   "cell_type": "code",
   "execution_count": 14,
   "metadata": {},
   "outputs": [
    {
     "data": {
      "text/plain": [
       "B    59883\n",
       "A    14693\n",
       "Name: grp, dtype: int64"
      ]
     },
     "execution_count": 14,
     "metadata": {},
     "output_type": "execute_result"
    }
   ],
   "source": [
    "groups_new.grp.value_counts()"
   ]
  },
  {
   "cell_type": "code",
   "execution_count": 15,
   "metadata": {},
   "outputs": [
    {
     "data": {
      "image/png": "[encoded data removed]",
      "text/plain": [
       "<Figure size 432x288 with 1 Axes>"
      ]
     },
     "metadata": {
      "needs_background": "light"
     },
     "output_type": "display_data"
    }
   ],
   "source": [
    "sns.countplot(data=groups_new, x='grp')\n",
    "plt.title('Распределение групп A и B')\n",
    "plt.show()"
   ]
  },
  {
   "cell_type": "code",
   "execution_count": 16,
   "metadata": {},
   "outputs": [
    {
     "data": {
      "text/plain": [
       "4.08"
      ]
     },
     "execution_count": 16,
     "metadata": {},
     "output_type": "execute_result"
    }
   ],
   "source": [
    "round(59883/14693,2)"
   ]
  },
  {
   "cell_type": "markdown",
   "metadata": {},
   "source": [
    "Тестовая (экспериментальная) группа превышает контролоьную в 4 раза. A/B-тест с изменением механики оплаты — это критически важный эксперимент, так как платежи напрямую влияют на выручку. Для начала при серьезных изменениях рекомендуеся распределение 80% A / 20% B (или даже 90/10), так как в этом случае риск минимален, и вместо 80% выручки потеряется всего лишь (относительно) 10-20%. Для болеее подробного дальнейшего \n",
    "анализа не хватает данных по уровню отказов на шаге оплаты, но в рамках данного проекта, к сожалению, этих данных нет\n",
    "\n",
    "Допускаю, что такое распределение было сделано целенаправленно для того, чтобы срок для сбора данных по новой версии был более быстрый, а также для лучшего понимания поведения пользователей, так как большая тестовая группа позволяет детальнее анализировать подгруппы (напрмер, как отреагируют новые или старые пользователи)"
   ]
  },
  {
   "cell_type": "markdown",
   "metadata": {},
   "source": [
    "Далее рассмотрим подробнее таблицу, хранящую информацию о выручке"
   ]
  },
  {
   "cell_type": "code",
   "execution_count": 17,
   "metadata": {},
   "outputs": [
    {
     "data": {
      "text/plain": [
       "4650.0000     1\n",
       "3660.0000     5\n",
       "3260.0000     1\n",
       "3040.0000     1\n",
       "2910.0000     4\n",
       "2900.0000     1\n",
       "2890.0000     4\n",
       "2820.0000     2\n",
       "2220.0000     2\n",
       "2190.0000     1\n",
       "2099.0000     3\n",
       "1980.0000     4\n",
       "1968.0000     1\n",
       "1900.0001    36\n",
       "1900.0000    97\n",
       "1830.0000     1\n",
       "1729.0000     1\n",
       "1530.0000     8\n",
       "1388.0000     1\n",
       "1339.0000     1\n",
       "1180.0000     2\n",
       "1160.0000     3\n",
       "1140.0000    25\n",
       "1050.0000     1\n",
       "1039.0000     1\n",
       "990.0000     41\n",
       "880.0000      1\n",
       "870.0000      6\n",
       "840.0000     27\n",
       "796.0000      1\n",
       "690.0000     78\n",
       "630.0000      1\n",
       "597.0000      1\n",
       "590.0000     11\n",
       "580.0000     15\n",
       "489.0000      3\n",
       "398.0000      9\n",
       "290.0000     94\n",
       "199.0000     46\n",
       "Name: rev, dtype: int64"
      ]
     },
     "execution_count": 17,
     "metadata": {},
     "output_type": "execute_result"
    }
   ],
   "source": [
    "checks.rev.value_counts().sort_index(ascending=False)"
   ]
  },
  {
   "cell_type": "code",
   "execution_count": 18,
   "metadata": {},
   "outputs": [
    {
     "data": {
      "image/png": "[encoded data removed]",
      "text/plain": [
       "<Figure size 720x432 with 1 Axes>"
      ]
     },
     "metadata": {
      "needs_background": "light"
     },
     "output_type": "display_data"
    }
   ],
   "source": [
    "plt.figure(figsize=(10, 6))\n",
    "sns.histplot(data=checks, x='rev', bins=70)\n",
    "plt.title('Распределение выручки')\n",
    "plt.show()"
   ]
  },
  {
   "cell_type": "markdown",
   "metadata": {},
   "source": [
    "В данном случае 1900.0001 имеет ненулевое значение после 3-го знака в сравнении с остальными. Это не случайная погрешность, потому что остальные суммы (даже большие, вроде 4650.0000 или 3660.0000 ) имеют ровно четыре нуля.\n",
    "\n",
    "Возможные причины:\n",
    "\n",
    "- Ошибка в данных (например, при конвертации или загрузке).\n",
    "- Форма данных (например, если данные приходят из разных источников, один из них мог добавить мусор: например, 1900 + случайный шум).\n",
    "- Намеренное искажение (например, кто-то вручную изменил сумму, чтобы обойти проверки).\n",
    "- Технический артефакт (например, ошибка округления в конкретном случае).\n",
    "\n",
    "Что можно сделать в данном случае?\n",
    "Стоит уточнить у поставщика, откуда берутся такие значения. Если мы будем уверены, что это случайная ошибка и изменить с 1900.0001 на 1900.0000. Пока на время выполнения анализа мы не уверены в природе аномалии и эту запись пока следует удалить для минимизации риска искажения статистики, так как замена требует обоснования, которого у нас пока нет. Если позже выяснится, что это была важная корректировка, можно вернуть данные. "
   ]
  },
  {
   "cell_type": "code",
   "execution_count": 19,
   "metadata": {},
   "outputs": [
    {
     "data": {
      "text/html": [
       "<div>\n",
       "<style scoped>\n",
       "    .dataframe tbody tr th:only-of-type {\n",
       "        vertical-align: middle;\n",
       "    }\n",
       "\n",
       "    .dataframe tbody tr th {\n",
       "        vertical-align: top;\n",
       "    }\n",
       "\n",
       "    .dataframe thead th {\n",
       "        text-align: right;\n",
       "    }\n",
       "</style>\n",
       "<table border=\"1\" class=\"dataframe\">\n",
       "  <thead>\n",
       "    <tr style=\"text-align: right;\">\n",
       "      <th></th>\n",
       "      <th>student_id</th>\n",
       "      <th>rev</th>\n",
       "    </tr>\n",
       "  </thead>\n",
       "  <tbody>\n",
       "    <tr>\n",
       "      <th>0</th>\n",
       "      <td>1627</td>\n",
       "      <td>990.0</td>\n",
       "    </tr>\n",
       "    <tr>\n",
       "      <th>1</th>\n",
       "      <td>3185</td>\n",
       "      <td>690.0</td>\n",
       "    </tr>\n",
       "    <tr>\n",
       "      <th>2</th>\n",
       "      <td>25973</td>\n",
       "      <td>690.0</td>\n",
       "    </tr>\n",
       "    <tr>\n",
       "      <th>3</th>\n",
       "      <td>26280</td>\n",
       "      <td>690.0</td>\n",
       "    </tr>\n",
       "    <tr>\n",
       "      <th>4</th>\n",
       "      <td>100300</td>\n",
       "      <td>990.0</td>\n",
       "    </tr>\n",
       "    <tr>\n",
       "      <th>...</th>\n",
       "      <td>...</td>\n",
       "      <td>...</td>\n",
       "    </tr>\n",
       "    <tr>\n",
       "      <th>536</th>\n",
       "      <td>5645737</td>\n",
       "      <td>1900.0</td>\n",
       "    </tr>\n",
       "    <tr>\n",
       "      <th>537</th>\n",
       "      <td>5651566</td>\n",
       "      <td>1900.0</td>\n",
       "    </tr>\n",
       "    <tr>\n",
       "      <th>538</th>\n",
       "      <td>5662322</td>\n",
       "      <td>1900.0</td>\n",
       "    </tr>\n",
       "    <tr>\n",
       "      <th>539</th>\n",
       "      <td>5681918</td>\n",
       "      <td>1900.0</td>\n",
       "    </tr>\n",
       "    <tr>\n",
       "      <th>540</th>\n",
       "      <td>5740903</td>\n",
       "      <td>1900.0</td>\n",
       "    </tr>\n",
       "  </tbody>\n",
       "</table>\n",
       "<p>505 rows × 2 columns</p>\n",
       "</div>"
      ],
      "text/plain": [
       "     student_id     rev\n",
       "0          1627   990.0\n",
       "1          3185   690.0\n",
       "2         25973   690.0\n",
       "3         26280   690.0\n",
       "4        100300   990.0\n",
       "..          ...     ...\n",
       "536     5645737  1900.0\n",
       "537     5651566  1900.0\n",
       "538     5662322  1900.0\n",
       "539     5681918  1900.0\n",
       "540     5740903  1900.0\n",
       "\n",
       "[505 rows x 2 columns]"
      ]
     },
     "execution_count": 19,
     "metadata": {},
     "output_type": "execute_result"
    }
   ],
   "source": [
    "checkss = checks.query(\"rev != 1900.0001\")\n",
    "checkss"
   ]
  },
  {
   "cell_type": "code",
   "execution_count": 20,
   "metadata": {},
   "outputs": [
    {
     "data": {
      "text/plain": [
       "1900.0    97\n",
       "290.0     94\n",
       "690.0     78\n",
       "199.0     46\n",
       "990.0     41\n",
       "840.0     27\n",
       "1140.0    25\n",
       "580.0     15\n",
       "590.0     11\n",
       "398.0      9\n",
       "1530.0     8\n",
       "870.0      6\n",
       "3660.0     5\n",
       "1980.0     4\n",
       "2910.0     4\n",
       "2890.0     4\n",
       "2099.0     3\n",
       "489.0      3\n",
       "1160.0     3\n",
       "1180.0     2\n",
       "2220.0     2\n",
       "2820.0     2\n",
       "1050.0     1\n",
       "597.0      1\n",
       "630.0      1\n",
       "2190.0     1\n",
       "1830.0     1\n",
       "1039.0     1\n",
       "796.0      1\n",
       "880.0      1\n",
       "3040.0     1\n",
       "3260.0     1\n",
       "1968.0     1\n",
       "1729.0     1\n",
       "1388.0     1\n",
       "2900.0     1\n",
       "4650.0     1\n",
       "1339.0     1\n",
       "Name: rev, dtype: int64"
      ]
     },
     "execution_count": 20,
     "metadata": {},
     "output_type": "execute_result"
    }
   ],
   "source": [
    "# Проверяем, что аномалии исчезли\n",
    "checkss.rev.value_counts()"
   ]
  },
  {
   "cell_type": "markdown",
   "metadata": {},
   "source": [
    "Проверим согласованность данных между всеми таблицами"
   ]
  },
  {
   "cell_type": "code",
   "execution_count": 21,
   "metadata": {},
   "outputs": [
    {
     "name": "stdout",
     "output_type": "stream",
     "text": [
      "Всего уникальных пользователей с оплатами (checkss): 505\n"
     ]
    }
   ],
   "source": [
    "# Проверяем согласованность данных между checks и groups\n",
    "# Сколько уникальных пользователей совершили оплаты (checks)\n",
    "total_paying_users = checkss['student_id'].nunique()\n",
    "print(f\"Всего уникальных пользователей с оплатами (checkss): {total_paying_users}\")"
   ]
  },
  {
   "cell_type": "code",
   "execution_count": 22,
   "metadata": {},
   "outputs": [
    {
     "name": "stdout",
     "output_type": "stream",
     "text": [
      "Из них распределены по группам A/B: 505\n"
     ]
    }
   ],
   "source": [
    "# Сколько из них есть в таблице групп (groups)\n",
    "paying_users_in_groups = checkss['student_id'].isin(groups_new['id']).sum()\n",
    "print(f\"Из них распределены по группам A/B: {paying_users_in_groups}\")"
   ]
  },
  {
   "cell_type": "code",
   "execution_count": 23,
   "metadata": {},
   "outputs": [
    {
     "name": "stdout",
     "output_type": "stream",
     "text": [
      "Оплативших пользователей БЕЗ группы (A/B): 0\n"
     ]
    }
   ],
   "source": [
    "# Сколько оплативших пользователей НЕ распределено по группам\n",
    "paying_users_not_in_groups = total_paying_users - paying_users_in_groups\n",
    "print(f\"Оплативших пользователей БЕЗ группы (A/B): {paying_users_not_in_groups}\")"
   ]
  },
  {
   "cell_type": "markdown",
   "metadata": {},
   "source": [
    "Вывод показывает 0 - это означает, что все пользователи, совершившие оплату имеют соответствующую запись в таблице групп - данные согласованы.\n",
    "\n",
    "Относительно этих двух таблиц проведём дополнительную проверку наоборот - есть ли пользоваели в таблице групп, но отсутствуют в таблице с информацией по оплате"
   ]
  },
  {
   "cell_type": "code",
   "execution_count": 24,
   "metadata": {},
   "outputs": [
    {
     "name": "stdout",
     "output_type": "stream",
     "text": [
      "\n",
      "Пользователей в groups_new, но не совершавших оплат (checkss): 74071\n"
     ]
    }
   ],
   "source": [
    "users_in_groups_not_in_checks = ~groups_new['id'].isin(checkss['student_id'])\n",
    "print(f\"\\nПользователей в groups_new, но не совершавших оплат (checkss): {users_in_groups_not_in_checks.sum()}\")"
   ]
  },
  {
   "cell_type": "markdown",
   "metadata": {},
   "source": [
    "На следующем этапе необходимо соотнести полученные данные с таблицей, содержащей в себе информацию о пользователях, которые зашли на платформу в дни проведения эксперимента. "
   ]
  },
  {
   "cell_type": "code",
   "execution_count": 25,
   "metadata": {},
   "outputs": [
    {
     "data": {
      "text/plain": [
       "74576"
      ]
     },
     "execution_count": 25,
     "metadata": {},
     "output_type": "execute_result"
    }
   ],
   "source": [
    "# Количество пользователей, распределенных в разные группы\n",
    "groups_new.shape[0]"
   ]
  },
  {
   "cell_type": "code",
   "execution_count": 26,
   "metadata": {},
   "outputs": [
    {
     "data": {
      "text/plain": [
       "505"
      ]
     },
     "execution_count": 26,
     "metadata": {},
     "output_type": "execute_result"
    }
   ],
   "source": [
    "# Количество пользователей, совершивших оплату\n",
    "checkss.shape[0]"
   ]
  },
  {
   "cell_type": "code",
   "execution_count": 27,
   "metadata": {},
   "outputs": [
    {
     "data": {
      "text/plain": [
       "8341"
      ]
     },
     "execution_count": 27,
     "metadata": {},
     "output_type": "execute_result"
    }
   ],
   "source": [
    "# Количество пользователей, заходивших на платформу в момент проведения эксперимента\n",
    "active_studs.shape[0]"
   ]
  },
  {
   "cell_type": "code",
   "execution_count": 28,
   "metadata": {},
   "outputs": [
    {
     "data": {
      "text/plain": [
       "7836"
      ]
     },
     "execution_count": 28,
     "metadata": {},
     "output_type": "execute_result"
    }
   ],
   "source": [
    "# Количество пользователей, заходивших на платформу в момент проведения эксперимента, \n",
    "# но не оплачивали либо информация об этом отсутствует\n",
    "active_studs.shape[0]-checkss.shape[0]"
   ]
  },
  {
   "cell_type": "code",
   "execution_count": 29,
   "metadata": {},
   "outputs": [
    {
     "name": "stdout",
     "output_type": "stream",
     "text": [
      "Активных пользователей не в эксперименте (ошибка данных): 0\n"
     ]
    }
   ],
   "source": [
    "# Есть ли активные поьзователи, которые не попали ни в одну из групп? Должно быть 0\n",
    "active_not_in_groups = ~active_studs['student_id'].isin(groups_new['id'])\n",
    "print(f\"Активных пользователей не в эксперименте (ошибка данных): {active_not_in_groups.sum()}\")"
   ]
  },
  {
   "cell_type": "code",
   "execution_count": 30,
   "metadata": {},
   "outputs": [
    {
     "name": "stdout",
     "output_type": "stream",
     "text": [
      "Платящих пользователей не в active_studs: 148\n"
     ]
    }
   ],
   "source": [
    "# Пользователи checks, не в active_studs (должно быть 0)\n",
    "paying_not_active = ~checkss['student_id'].isin(active_studs['student_id'])\n",
    "print(f\"Платящих пользователей не в active_studs: {paying_not_active.sum()}\")"
   ]
  },
  {
   "cell_type": "markdown",
   "metadata": {},
   "source": [
    "Согласно изначалььным данным, в таблице checks должна содержаться информация об оплатах пользователей в дни проведения эксперимента, то есть пользователь должен был заходить на платформу в дни проведения эксперимента"
   ]
  },
  {
   "cell_type": "code",
   "execution_count": 31,
   "metadata": {},
   "outputs": [
    {
     "name": "stdout",
     "output_type": "stream",
     "text": [
      "Обнаружено 148 оплат от пользователей, не учтённых в active_studs\n",
      "Статистика по суммам этих оплат:\n",
      "count     148.000000\n",
      "mean      700.216216\n",
      "std       366.963223\n",
      "min       199.000000\n",
      "25%       290.000000\n",
      "50%       690.000000\n",
      "75%       990.000000\n",
      "max      1980.000000\n",
      "Name: rev, dtype: float64\n"
     ]
    }
   ],
   "source": [
    "# Выделяем проблемные записи для анализа\n",
    "problematic_payments = checkss[~checkss['student_id'].isin(active_studs['student_id'])]\n",
    "\n",
    "print(f\"Обнаружено {len(problematic_payments)} оплат от пользователей, не учтённых в active_studs\")\n",
    "print(\"Статистика по суммам этих оплат:\")\n",
    "print(problematic_payments['rev'].describe())"
   ]
  },
  {
   "cell_type": "code",
   "execution_count": 32,
   "metadata": {},
   "outputs": [
    {
     "data": {
      "text/plain": [
       "357"
      ]
     },
     "execution_count": 32,
     "metadata": {},
     "output_type": "execute_result"
    }
   ],
   "source": [
    "# Количество пользователей, информация о которых есть в обеих таблицах, \n",
    "# отвечающих за наличие данных в момент проведения эксперимента\n",
    "checkss.shape[0]-paying_not_active.sum()"
   ]
  },
  {
   "cell_type": "markdown",
   "metadata": {},
   "source": [
    "Таким образом, после проведения предварительного анализа, можно собрать единую таблицу, в которой будут все и только нужные данные для дальнейшей работы по подбору метрик и проведения статистического анализа"
   ]
  },
  {
   "cell_type": "code",
   "execution_count": 33,
   "metadata": {},
   "outputs": [],
   "source": [
    "table_1=pd.merge(active_studs, checkss, on='student_id', how='left')"
   ]
  },
  {
   "cell_type": "markdown",
   "metadata": {},
   "source": [
    "Объединение талицы active_studs с checks по столбцу student_id.\n",
    "\n",
    "how='left' означает, что в результирующем DataFrame останутся все строки из active_studs, даже если в checks нет соответствия.\n",
    "\n",
    "Если у пользователя нет записей в checks, соответствующие поля будут заполнены NaN."
   ]
  },
  {
   "cell_type": "code",
   "execution_count": 34,
   "metadata": {},
   "outputs": [],
   "source": [
    "general_table=pd.merge(table_1, groups_new, left_on='student_id', right_on='id', how='left')"
   ]
  },
  {
   "cell_type": "markdown",
   "metadata": {},
   "source": [
    "К результату предыдущего шага добавляется информация из groups.\n",
    "\n",
    "left_on='student_id' – столбец из левого DataFrame (результата предыдущего слияния), по которому идёт соединение.\n",
    "\n",
    "right_on='id' – столбец из правого DataFrame (groups_new), по которому идёт соединение.\n",
    "\n",
    "how='left' – сохраняются все записи из левой таблицы, даже если в groups_new нет соответствия.\n",
    "\n",
    "Если пользователь не состоит ни в одной группе, соответствующие поля будут NaN."
   ]
  },
  {
   "cell_type": "code",
   "execution_count": 35,
   "metadata": {},
   "outputs": [
    {
     "data": {
      "text/html": [
       "<div>\n",
       "<style scoped>\n",
       "    .dataframe tbody tr th:only-of-type {\n",
       "        vertical-align: middle;\n",
       "    }\n",
       "\n",
       "    .dataframe tbody tr th {\n",
       "        vertical-align: top;\n",
       "    }\n",
       "\n",
       "    .dataframe thead th {\n",
       "        text-align: right;\n",
       "    }\n",
       "</style>\n",
       "<table border=\"1\" class=\"dataframe\">\n",
       "  <thead>\n",
       "    <tr style=\"text-align: right;\">\n",
       "      <th></th>\n",
       "      <th>student_id</th>\n",
       "      <th>rev</th>\n",
       "      <th>grp</th>\n",
       "    </tr>\n",
       "  </thead>\n",
       "  <tbody>\n",
       "    <tr>\n",
       "      <th>0</th>\n",
       "      <td>581585</td>\n",
       "      <td>NaN</td>\n",
       "      <td>A</td>\n",
       "    </tr>\n",
       "    <tr>\n",
       "      <th>1</th>\n",
       "      <td>5723133</td>\n",
       "      <td>NaN</td>\n",
       "      <td>A</td>\n",
       "    </tr>\n",
       "    <tr>\n",
       "      <th>2</th>\n",
       "      <td>3276743</td>\n",
       "      <td>NaN</td>\n",
       "      <td>B</td>\n",
       "    </tr>\n",
       "    <tr>\n",
       "      <th>3</th>\n",
       "      <td>4238589</td>\n",
       "      <td>NaN</td>\n",
       "      <td>A</td>\n",
       "    </tr>\n",
       "    <tr>\n",
       "      <th>4</th>\n",
       "      <td>4475369</td>\n",
       "      <td>NaN</td>\n",
       "      <td>B</td>\n",
       "    </tr>\n",
       "    <tr>\n",
       "      <th>...</th>\n",
       "      <td>...</td>\n",
       "      <td>...</td>\n",
       "      <td>...</td>\n",
       "    </tr>\n",
       "    <tr>\n",
       "      <th>8336</th>\n",
       "      <td>1794344</td>\n",
       "      <td>NaN</td>\n",
       "      <td>B</td>\n",
       "    </tr>\n",
       "    <tr>\n",
       "      <th>8337</th>\n",
       "      <td>296883</td>\n",
       "      <td>NaN</td>\n",
       "      <td>B</td>\n",
       "    </tr>\n",
       "    <tr>\n",
       "      <th>8338</th>\n",
       "      <td>3598448</td>\n",
       "      <td>NaN</td>\n",
       "      <td>B</td>\n",
       "    </tr>\n",
       "    <tr>\n",
       "      <th>8339</th>\n",
       "      <td>3610547</td>\n",
       "      <td>290.0</td>\n",
       "      <td>B</td>\n",
       "    </tr>\n",
       "    <tr>\n",
       "      <th>8340</th>\n",
       "      <td>205705</td>\n",
       "      <td>NaN</td>\n",
       "      <td>B</td>\n",
       "    </tr>\n",
       "  </tbody>\n",
       "</table>\n",
       "<p>8341 rows × 3 columns</p>\n",
       "</div>"
      ],
      "text/plain": [
       "      student_id    rev grp\n",
       "0         581585    NaN   A\n",
       "1        5723133    NaN   A\n",
       "2        3276743    NaN   B\n",
       "3        4238589    NaN   A\n",
       "4        4475369    NaN   B\n",
       "...          ...    ...  ..\n",
       "8336     1794344    NaN   B\n",
       "8337      296883    NaN   B\n",
       "8338     3598448    NaN   B\n",
       "8339     3610547  290.0   B\n",
       "8340      205705    NaN   B\n",
       "\n",
       "[8341 rows x 3 columns]"
      ]
     },
     "execution_count": 35,
     "metadata": {},
     "output_type": "execute_result"
    }
   ],
   "source": [
    "general_table=general_table.drop(columns=['id'])\n",
    "general_table"
   ]
  },
  {
   "cell_type": "code",
   "execution_count": 36,
   "metadata": {},
   "outputs": [
    {
     "data": {
      "text/html": [
       "<div>\n",
       "<style scoped>\n",
       "    .dataframe tbody tr th:only-of-type {\n",
       "        vertical-align: middle;\n",
       "    }\n",
       "\n",
       "    .dataframe tbody tr th {\n",
       "        vertical-align: top;\n",
       "    }\n",
       "\n",
       "    .dataframe thead th {\n",
       "        text-align: right;\n",
       "    }\n",
       "</style>\n",
       "<table border=\"1\" class=\"dataframe\">\n",
       "  <thead>\n",
       "    <tr style=\"text-align: right;\">\n",
       "      <th></th>\n",
       "      <th>student_id</th>\n",
       "      <th>rev</th>\n",
       "      <th>grp</th>\n",
       "    </tr>\n",
       "  </thead>\n",
       "  <tbody>\n",
       "    <tr>\n",
       "      <th>0</th>\n",
       "      <td>581585</td>\n",
       "      <td>0.0</td>\n",
       "      <td>A</td>\n",
       "    </tr>\n",
       "    <tr>\n",
       "      <th>1</th>\n",
       "      <td>5723133</td>\n",
       "      <td>0.0</td>\n",
       "      <td>A</td>\n",
       "    </tr>\n",
       "    <tr>\n",
       "      <th>2</th>\n",
       "      <td>3276743</td>\n",
       "      <td>0.0</td>\n",
       "      <td>B</td>\n",
       "    </tr>\n",
       "    <tr>\n",
       "      <th>3</th>\n",
       "      <td>4238589</td>\n",
       "      <td>0.0</td>\n",
       "      <td>A</td>\n",
       "    </tr>\n",
       "    <tr>\n",
       "      <th>4</th>\n",
       "      <td>4475369</td>\n",
       "      <td>0.0</td>\n",
       "      <td>B</td>\n",
       "    </tr>\n",
       "    <tr>\n",
       "      <th>...</th>\n",
       "      <td>...</td>\n",
       "      <td>...</td>\n",
       "      <td>...</td>\n",
       "    </tr>\n",
       "    <tr>\n",
       "      <th>8336</th>\n",
       "      <td>1794344</td>\n",
       "      <td>0.0</td>\n",
       "      <td>B</td>\n",
       "    </tr>\n",
       "    <tr>\n",
       "      <th>8337</th>\n",
       "      <td>296883</td>\n",
       "      <td>0.0</td>\n",
       "      <td>B</td>\n",
       "    </tr>\n",
       "    <tr>\n",
       "      <th>8338</th>\n",
       "      <td>3598448</td>\n",
       "      <td>0.0</td>\n",
       "      <td>B</td>\n",
       "    </tr>\n",
       "    <tr>\n",
       "      <th>8339</th>\n",
       "      <td>3610547</td>\n",
       "      <td>290.0</td>\n",
       "      <td>B</td>\n",
       "    </tr>\n",
       "    <tr>\n",
       "      <th>8340</th>\n",
       "      <td>205705</td>\n",
       "      <td>0.0</td>\n",
       "      <td>B</td>\n",
       "    </tr>\n",
       "  </tbody>\n",
       "</table>\n",
       "<p>8341 rows × 3 columns</p>\n",
       "</div>"
      ],
      "text/plain": [
       "      student_id    rev grp\n",
       "0         581585    0.0   A\n",
       "1        5723133    0.0   A\n",
       "2        3276743    0.0   B\n",
       "3        4238589    0.0   A\n",
       "4        4475369    0.0   B\n",
       "...          ...    ...  ..\n",
       "8336     1794344    0.0   B\n",
       "8337      296883    0.0   B\n",
       "8338     3598448    0.0   B\n",
       "8339     3610547  290.0   B\n",
       "8340      205705    0.0   B\n",
       "\n",
       "[8341 rows x 3 columns]"
      ]
     },
     "execution_count": 36,
     "metadata": {},
     "output_type": "execute_result"
    }
   ],
   "source": [
    "# Заменим NaN в revenue на 0 для пользователей без оплат\n",
    "general_table['rev'] = general_table['rev'].fillna(0)\n",
    "general_table"
   ]
  },
  {
   "cell_type": "markdown",
   "metadata": {},
   "source": [
    "Для последующего анализа в таблицу general_table было отобрано 8341 только активных пользователей, распределенных на группы, среди которых 357 совершали покупки в момент проведения эксперимена.\n",
    "\n",
    "Проверим, как теперь после проведения предобработки как распределились пользователи по группам"
   ]
  },
  {
   "cell_type": "code",
   "execution_count": 37,
   "metadata": {},
   "outputs": [
    {
     "data": {
      "text/plain": [
       "B    6803\n",
       "A    1538\n",
       "Name: grp, dtype: int64"
      ]
     },
     "execution_count": 37,
     "metadata": {},
     "output_type": "execute_result"
    }
   ],
   "source": [
    "general_table.grp.value_counts()"
   ]
  },
  {
   "cell_type": "code",
   "execution_count": 38,
   "metadata": {},
   "outputs": [
    {
     "data": {
      "image/png": "[encoded data removed]",
      "text/plain": [
       "<Figure size 432x288 with 1 Axes>"
      ]
     },
     "metadata": {
      "needs_background": "light"
     },
     "output_type": "display_data"
    }
   ],
   "source": [
    "sns.countplot(data=general_table, x='grp')\n",
    "plt.title('Распределение групп A и B')\n",
    "plt.show()"
   ]
  },
  {
   "cell_type": "code",
   "execution_count": 39,
   "metadata": {},
   "outputs": [
    {
     "data": {
      "text/plain": [
       "4.42"
      ]
     },
     "execution_count": 39,
     "metadata": {},
     "output_type": "execute_result"
    }
   ],
   "source": [
    "round(6803/1538,2)"
   ]
  },
  {
   "cell_type": "markdown",
   "metadata": {},
   "source": [
    "Соотношение групп чуть увеличено, чем в изначальной таблице и составляет 1 к 4.4"
   ]
  },
  {
   "cell_type": "markdown",
   "metadata": {},
   "source": [
    "# Определение метрик"
   ]
  },
  {
   "cell_type": "markdown",
   "metadata": {},
   "source": [
    "CR (Conversion Rate), или коэффициент конверсии — это процент пользователей, совершивших хотя бы одну оплату, от общего числа посетителей.\n",
    "\n",
    "Обоснование выбора:\n",
    "- чувствительность: CR чувствительна, так как прямо реагирует на изменения в процессе оплаты: если механика действительно упрощает оплату, CR покажет рост сразу после внедрения. \n",
    "    - возможные ограничения - краткосрочные акции могут временно исказить CR, поэтмоу важно проводить тесты, когда акции отсутствуют\n",
    "- достоверность: CR достоверна так как основана на фактических платежах (не на опросах или намерениях) и легко верифицировать (данные из checks (список оплат) можно сопоставить с active_studs (активные пользователи))\n",
    "- интерпретируемость: CR интерпретируема, так как есть прямая связь с бизнес-результатом: рост CR на 1% = на 1% больше пользователей начали платить, а так же она проста в понимании-даже нетехнические специалисты видят, что \"чем выше CR, тем лучше\".\n",
    "\n",
    "также хочется добавить ещё несколько критериев:\n",
    "\n",
    "1 критерий - связь с бизнес-целью. это важно, так как метрика напрямуб влияет на KPI компаний. метрика CR отвечает на вопрос \"Стало ли больше пользователей платить?\". Цель - увеличение клиентской базы\n",
    "\n",
    "2 критерий - устойчивость к искажениям. CR может быть искажена, если в одной группе случайно оказались больше \"холодных\" пользователей. Решение - проверять баланс групп по источникам трафик. "
   ]
  },
  {
   "cell_type": "markdown",
   "metadata": {},
   "source": [
    "  "
   ]
  },
  {
   "cell_type": "markdown",
   "metadata": {},
   "source": [
    "ARPPU (Average Revenue Per Paying User) - средний доход с платящего пользователя. Фокусируется исключительно на клиентах, совершивших покупку. ARPPU помогает понять, сколько в среднем приносит каждый платящий пользователь. Это важно для оценки эффективности конверсии пользователей в платящих и понимания поведения пользователей. \n",
    "\n",
    "Обснование выбора:\n",
    "- чувствительность: ARPPU хорошо отражает изменения в платежном поведении пользователей, так как: Чувствителен к изменениям в ценовой политике (скидки, новые тарифы), реагирует на улучшения платежного интерфейса (упрощение процесса оплаты), показывает эффект от таргетированных предложений (например, премиум-услуг)\n",
    "- достоверность: метрика достоверна, так как устойчива к неоплатившим пользователям (в отличие от ARPU, который \"размывается\" нулями) и позволяет четко измерить реальный экономически эффект от изменений\n",
    "- интерпретируемость: метрика понятна бизнесу - \"Средний платеж одного оплатившего пользователя\", а так же прямо связана с выручкой: Общая выручка = ARPPU * Количество оплативших\n",
    "\n",
    "и также по критериям:\n",
    "\n",
    "1 критерий - связь с бизнес-целью. ARPPU отвечает на вопрос \"Стали ли пользователи больше платить?\". Цель - рост среднего чека и выручки. Если бизнес хочет увеличить доход, но СR уже высокий, тогда следующей приоритетной метрикой становится ARPPU\n",
    "\n",
    "2 критерий - устойчивость к искажениям. ARPPU может быть искажена выбросами (один крупный платеж меняет среднее). Решение - дополнительно смотреть медиану.\n",
    "\n",
    "Почему в решении 2 критерия нужно дополнительно смотреть на медиану. \n",
    "\n",
    "Данные о платежах часто имеют правостороннюю асимметрию (большинство платежей небольшие, но есть несколько очень крупных). Медиана - устойчивая мера центральной тенденции, которая не чувствительна к выбросам (в отличие от среднего) и показывает \"типичный\" платеж, который ожидается от большинства пользователей."
   ]
  },
  {
   "cell_type": "markdown",
   "metadata": {},
   "source": [
    "Так, было выбрано CR и ARPPU, так как они взаимодополняют друг друга: CR показывает, как новая механика привлекает новых плательщиков, а ARPPU — как она влияет на их платежеспособность. Обе метрики соответствуют критериям чувствительности, достоверности и интерпретируемости, а их ограничения контролируются через анализ распределений и баланс групп."
   ]
  },
  {
   "cell_type": "markdown",
   "metadata": {},
   "source": [
    "Посмотрим на метрики в разрезе групп"
   ]
  },
  {
   "cell_type": "code",
   "execution_count": 40,
   "metadata": {},
   "outputs": [
    {
     "name": "stdout",
     "output_type": "stream",
     "text": [
      "\n",
      "Конверсия в оплату по группам:\n",
      "grp\n",
      "A    5.07%\n",
      "B     4.1%\n",
      "Name: rev, dtype: object\n"
     ]
    },
    {
     "data": {
      "image/png": "[encoded data removed]",
      "text/plain": [
       "<Figure size 720x432 with 1 Axes>"
      ]
     },
     "metadata": {
      "needs_background": "light"
     },
     "output_type": "display_data"
    }
   ],
   "source": [
    "conversion_rate = general_table.groupby('grp')['rev'].apply(lambda x: (x > 0).mean())\n",
    "print(\"\\nКонверсия в оплату по группам:\")\n",
    "print((conversion_rate * 100).round(2).astype(str) + '%')\n",
    "\n",
    "# Визуализация \n",
    "plt.figure(figsize=(10, 6))\n",
    "ax = sns.barplot(x=conversion_rate.index, y=conversion_rate.values)\n",
    "plt.title('Конверсия в оплату по группам')\n",
    "plt.ylabel('Конверсия')\n",
    "\n",
    "for p in ax.patches:\n",
    "    ax.annotate(f'{p.get_height()*100:.1f}%', \n",
    "                (p.get_x() + p.get_width() / 2., p.get_height()),\n",
    "                ha='center', va='center', \n",
    "                xytext=(0, 10), \n",
    "                textcoords='offset points')\n",
    "    \n",
    "plt.show()"
   ]
  },
  {
   "cell_type": "code",
   "execution_count": 41,
   "metadata": {},
   "outputs": [
    {
     "name": "stdout",
     "output_type": "stream",
     "text": [
      "ARPPU по группам:\n",
      "      ARPPU_mean  ARPPU_median  paying_users_count\n",
      "grp                                               \n",
      "A     933.589744         585.0                  78\n",
      "B    1177.326165         990.0                 279\n"
     ]
    },
    {
     "data": {
      "image/png": "[encoded data removed]",
      "text/plain": [
       "<Figure size 864x432 with 2 Axes>"
      ]
     },
     "metadata": {
      "needs_background": "light"
     },
     "output_type": "display_data"
    }
   ],
   "source": [
    "paying_users = general_table[general_table['rev'] > 0].copy()\n",
    "arppu = paying_users.groupby('grp')['rev'].agg(['mean', 'median', 'count'])\n",
    "arppu.columns = ['ARPPU_mean', 'ARPPU_median', 'paying_users_count']\n",
    "print(\"ARPPU по группам:\")\n",
    "print(arppu)\n",
    "\n",
    "# Визуализация\n",
    "plt.figure(figsize=(12, 6))\n",
    "\n",
    "# График среднего ARPPU \n",
    "plt.subplot(1, 2, 1)\n",
    "ax1 = sns.barplot(\n",
    "    data=paying_users, \n",
    "    x='grp', \n",
    "    y='rev', \n",
    "    estimator=np.mean,\n",
    "    ci=None\n",
    ")\n",
    "plt.title('Средний ARPPU по группам')\n",
    "plt.ylabel('Средний доход на платящего пользователя ')\n",
    "plt.xlabel('Группа')\n",
    "\n",
    "# Добавляем точные значения на столбцы\n",
    "for p in ax1.patches:\n",
    "    ax1.annotate(\n",
    "        f'{p.get_height():.0f} ', \n",
    "        (p.get_x() + p.get_width() / 2., p.get_height()),\n",
    "        ha='center', \n",
    "        va='center', \n",
    "        xytext=(0, 10), \n",
    "        textcoords='offset points'\n",
    "    )\n",
    "\n",
    "# График распределения сумм оплат\n",
    "plt.subplot(1, 2, 2)\n",
    "sns.boxplot(\n",
    "    data=paying_users, \n",
    "    x='grp', \n",
    "    y='rev', \n",
    "    showfliers=False  \n",
    ")  \n",
    "plt.title('Распределение сумм оплат')\n",
    "plt.ylabel('Сумма оплаты')\n",
    "plt.xlabel('Группа')\n",
    "\n",
    "plt.tight_layout()\n",
    "plt.show()"
   ]
  },
  {
   "cell_type": "markdown",
   "metadata": {},
   "source": [
    "1. CR (Conversion Rate) Конверсия в оплату\n",
    "\n",
    "Группа A: 5.07%\n",
    "\n",
    "Группа B: 4.1%\n",
    "\n",
    "Наблюдение:\n",
    "\n",
    "Конверсия в группе B ниже на 0.97 п.п. (19% относительного снижения). Возможные причины:\n",
    "\n",
    "- Новая механика оплаты могла усложнить процесс для части пользователей\n",
    "\n",
    "- В группе B могло оказаться больше \"холодных\" пользователей\n",
    "\n",
    "- Технические ошибки при внедрении новой механики\n",
    "\n",
    "Важно проверить:\n",
    "\n",
    "- Статистическую значимость различий \n",
    "\n",
    "- Распределение пользователей по источникам трафика/сегментам"
   ]
  },
  {
   "cell_type": "markdown",
   "metadata": {},
   "source": [
    "2. ARPPU (Average Revenue Per Paying User) средни доход с платящего пользователя\n",
    "\n",
    "Рост среднего чека на 26%:\n",
    "\n",
    "- Пользователи группы B в среднем платят больше\n",
    "\n",
    "- Возможно, новая механика стимулирует более дорогие покупки\n",
    "\n",
    "Ещё более сильный рост медианы (69%):\n",
    "\n",
    "- У большинства платящих пользователей чек вырос существенно\n",
    "\n",
    "- Медиана менее чувствительна к выбросам, чем среднее\n",
    "\n",
    "Разрыв между средним и медианой:\n",
    "\n",
    "- В группе A: среднее (933.6) > медиана (585) - есть редкие крупные платежи\n",
    "\n",
    "- В группе B: разрыв меньше - распределение платежей более однородное"
   ]
  },
  {
   "cell_type": "markdown",
   "metadata": {},
   "source": [
    "# Статистический анализ"
   ]
  },
  {
   "cell_type": "markdown",
   "metadata": {},
   "source": [
    "Описательная статистика"
   ]
  },
  {
   "cell_type": "code",
   "execution_count": 42,
   "metadata": {},
   "outputs": [
    {
     "name": "stdout",
     "output_type": "stream",
     "text": [
      "Статистика по всем пользователям:\n",
      "      count       mean         std  min  25%  50%  75%     max\n",
      "grp                                                           \n",
      "A    1538.0  47.347204  290.490632  0.0  0.0  0.0  0.0  3660.0\n",
      "B    6803.0  48.283698  284.457342  0.0  0.0  0.0  0.0  4650.0\n"
     ]
    }
   ],
   "source": [
    "# Для всех пользователей (включая неоплативших)\n",
    "desc_stats_all = general_table.groupby('grp').rev.describe()\n",
    "print(\"Статистика по всем пользователям:\")\n",
    "print(desc_stats_all)"
   ]
  },
  {
   "cell_type": "code",
   "execution_count": 43,
   "metadata": {},
   "outputs": [
    {
     "name": "stdout",
     "output_type": "stream",
     "text": [
      "\n",
      "Статистика для платящих пользователей:\n",
      "     count         mean         std    min    25%    50%      75%     max\n",
      "grp                                                                      \n",
      "A     78.0   933.589744  919.932711  199.0  290.0  585.0  1114.75  3660.0\n",
      "B    279.0  1177.326165  803.610099  199.0  290.0  990.0  1900.00  4650.0\n"
     ]
    }
   ],
   "source": [
    "# Только для платящих пользователей\n",
    "desc_stats_paying = general_table[general_table['rev'] > 0].groupby('grp').rev.describe()\n",
    "print(\"\\nСтатистика для платящих пользователей:\")\n",
    "print(desc_stats_paying)"
   ]
  },
  {
   "cell_type": "code",
   "execution_count": 44,
   "metadata": {},
   "outputs": [
    {
     "name": "stdout",
     "output_type": "stream",
     "text": [
      "Конверсия в группе А равна 5.07 %, а в группе В 4.1 %\n"
     ]
    }
   ],
   "source": [
    "# 1 Общие показатели\n",
    "control=round((78/1538)*100,2)\n",
    "test=round((279/6803)*100,2)\n",
    "print(f\"Конверсия в группе А равна {control} %, а в группе В {test} %\")"
   ]
  },
  {
   "cell_type": "markdown",
   "metadata": {},
   "source": [
    "В группе B конверсия ниже, несмотря на новую механику оплаты. \n",
    "Возможные причины: \n",
    "- Неравномерное распределение пользователей (в группе B в 4.4 раза больше пользователей)\n",
    "- Различия в сегментации (например, группа B могла получить больше \"холодных\" пользователей)"
   ]
  },
  {
   "cell_type": "markdown",
   "metadata": {},
   "source": [
    "2. Анализ платящих пользователей\n",
    "\n",
    "Контрольная группа А:\n",
    "\n",
    "Средний чек 933.589744, медианный 585.0. Медиана значительно ниже среднего. Это указывает на правостороннюю асимметрию, когда длинный хвост крупных платежей смещает данные.\n",
    "\n",
    "Тестовая группа В:\n",
    "\n",
    "Средний чек 1177.326165, медианный  990.0. Медиана ближе к среднему, распределение более сбалансированное.\n",
    "\n",
    "Новая механика оплаты значительно увеличила средний и медианный чек, возможно за счет снижения конверсии"
   ]
  },
  {
   "cell_type": "markdown",
   "metadata": {},
   "source": [
    "3. Распределение платежей\n",
    "\n",
    "Стандартное отклонение (std) от среднего для каждой группы\n",
    "Контрольная группа А std = 919.932711\n",
    "Тестовая группа В std = 803.610099\n",
    "\n",
    "Для группы А:\n",
    "    стандартное отклонение почти равно среднему, очень большой разброс данных. Много платежей значительно отличаются от среднего. Есть как очень маленькие (199) так и большие (3660) платежи\n",
    "    \n",
    "Для группы В:\n",
    "    стандартное отклонение меньше среднего, возможно, это влиние новой механики оплаты, поэтому платежи относительно А более стабильные. Экстремальных отклонений меньге, хотя разброс всё ещё очень большой (199-4650)\n"
   ]
  },
  {
   "cell_type": "code",
   "execution_count": 45,
   "metadata": {},
   "outputs": [
    {
     "data": {
      "image/png": "[encoded data removed]",
      "text/plain": [
       "<Figure size 1008x504 with 1 Axes>"
      ]
     },
     "metadata": {
      "needs_background": "light"
     },
     "output_type": "display_data"
    }
   ],
   "source": [
    "\n",
    "paying_users = general_table[general_table['rev'] > 0]\n",
    "\n",
    "median_a = paying_users[paying_users['grp'] == 'A']['rev'].median()\n",
    "median_b = paying_users[paying_users['grp'] == 'B']['rev'].median()\n",
    "\n",
    "plt.figure(figsize=(14, 7))\n",
    "ax = sns.histplot(\n",
    "    data=paying_users, \n",
    "    x='rev', \n",
    "    hue='grp', \n",
    "    bins=30, \n",
    "    kde=True, \n",
    "    alpha=0.6,\n",
    "    palette=['#ff7f0e', '#1f77b4']  # Оранжевый - A, синий - B\n",
    ")\n",
    "\n",
    "\n",
    "plt.axvline(x=933.6, color='#ff7f0e', linestyle='--', linewidth=2, label='Mean A (933.6)')\n",
    "plt.axvline(x=1177.3, color='#1f77b4', linestyle='--', linewidth=2, label='Mean B (1177.3)')\n",
    "\n",
    "plt.axvline(x=median_a, color='#ff7f0e', linestyle='-', linewidth=2, label=f'Median A ({median_a:.1f})')\n",
    "plt.axvline(x=median_b, color='#1f77b4', linestyle='-', linewidth=2, label=f'Median B ({median_b:.1f})')\n",
    "\n",
    "plt.title('Распределение платежей: сравнение групп A и B', pad=20)\n",
    "plt.xlabel('Сумма платежа')\n",
    "plt.ylabel('Количество пользователей')\n",
    "plt.legend(bbox_to_anchor=(1.05, 1), loc='upper left')\n",
    "\n",
    "\n",
    "plt.text(933.6 , ax.get_ylim()[1]*0.9, 'Mean A', color='#ff7f0e', ha='right')\n",
    "plt.text(1177.3 + 50, ax.get_ylim()[1]*0.8, 'Mean B', color='#1f77b4', ha='left')\n",
    "plt.text(median_a - 90, ax.get_ylim()[1]*0.9, f'Median A', \n",
    "         color='#ff7f0e', ha='right')\n",
    "plt.text(median_b + 200, ax.get_ylim()[1]*0.7, f'Median B', \n",
    "         color='#1f77b4', ha='right')\n",
    "\n",
    "plt.grid(axis='y', alpha=0.3)\n",
    "plt.tight_layout()\n",
    "plt.show()"
   ]
  },
  {
   "cell_type": "markdown",
   "metadata": {},
   "source": [
    "Выбор статистического теста для оценки статистической значимости.\n",
    "\n",
    "Выбор среди двухвыборочных тестов.\n",
    "\n",
    "Сравнивают средние двух выборок.\n",
    "\n",
    "- t-критерий Стьюдента для независимых выборок\n",
    "\n",
    "   - Условия:\n",
    "\n",
    "       - Независимые выборки.\n",
    "\n",
    "       - Нормальное распределение или большой объем выборки.\n",
    "\n",
    "       - Проверка равенства дисперсий (критерий Левена или F-тест).\n",
    "\n",
    "   - Варианты:\n",
    "\n",
    "       - С равными дисперсиями (критерий Стьюдента).\n",
    "\n",
    "       - С неравными дисперсиями (критерий Уэлча).\n",
    "\n",
    "- t-критерий Стьюдента для парных выборок\n",
    "\n",
    "   - Условия:\n",
    "\n",
    "       - Зависимые выборки (например, до и после воздействия).\n",
    "\n",
    "       - Разности пар должны быть нормально распределены.\n",
    "\n",
    "- U-критерий Манна-Уитни (непараметрический аналог t-теста)\n",
    "\n",
    "   - Условия:\n",
    "\n",
    "       - Ненормальное распределение.\n",
    "\n",
    "       - Независимые выборки.\n",
    "\n",
    "   - Проверяет гипотезу о равенстве медиан или сдвиге распределений.\n",
    "\n",
    "- Критерий Уилкоксона (парный непараметрический тест)\n",
    "\n",
    "   - Аналог парного t-теста для ненормальных данных.\n",
    "   "
   ]
  },
  {
   "cell_type": "markdown",
   "metadata": {},
   "source": [
    "Для достоверной оценки статистической значимости необходимо выбрать правильно тест. \n",
    "\n",
    "t-критерий Стьюдента для парных выборок уже не подходит, так как выборки не зависимы медлу собой, поэтому выбираем между:\n",
    "\n",
    "t-критерий Стьюдента для независимых выборок, U-критерий Манна-Уитни (непараметрический аналог t-теста) и Критерий Уилкоксона (парный непараметрический тест, аналог парного t-теста для ненормальных данных). \n",
    "\n",
    "Согласно условиям t-критерий Стьюдента для независимых выборок (а выборки в нашем случае друг от лруга независимы, значит первое условие уже выполнено), нужно провести проверку распределения данных на нормальность и провести проверку равенства дисперсий (критерий Левена или F-тест).\n",
    "\n",
    "\n",
    "U-критерий Манна-Уитни (непараметрический аналог t-теста) - выборки независимы, поэтому также как и с Т-тестом нужно проверить нормальность распределения данных.\n",
    "\n",
    "Критерий Уилкоксона (парный непараметрический тест) - данные распределены ненормально либо это неизвестно.\n",
    "\n",
    "\n",
    "Для проверки на нормальность распределения данных применим статистический тест Шапиро-Уилка.\n",
    "\n",
    "Нулевая гипотеза данные распределены нормально. \n",
    "\n",
    "Альтернативная гипотеза данные распределены ненормально.\n",
    "\n",
    "Если p-значение < 0,05 (5%), нулевая гипотеза отвергается, распределение не является нормальным."
   ]
  },
  {
   "cell_type": "code",
   "execution_count": 46,
   "metadata": {},
   "outputs": [],
   "source": [
    "group_a = general_table[(general_table['grp'] == 'A') & (general_table['rev'] > 0)]['rev']\n",
    "group_b = general_table[(general_table['grp'] == 'B') & (general_table['rev'] > 0)]['rev']"
   ]
  },
  {
   "cell_type": "code",
   "execution_count": 47,
   "metadata": {},
   "outputs": [
    {
     "data": {
      "text/plain": [
       "(0.7353236079216003, 1.4986822893803264e-10)"
      ]
     },
     "execution_count": 47,
     "metadata": {},
     "output_type": "execute_result"
    }
   ],
   "source": [
    "from scipy.stats import shapiro  \n",
    "stat_a, p_a=shapiro(group_a)\n",
    "stat_a, p_a"
   ]
  },
  {
   "cell_type": "code",
   "execution_count": 48,
   "metadata": {},
   "outputs": [
    {
     "data": {
      "text/plain": [
       "(0.8672734498977661, 8.787840619854225e-15)"
      ]
     },
     "execution_count": 48,
     "metadata": {},
     "output_type": "execute_result"
    }
   ],
   "source": [
    "stat_b, p_b=shapiro(group_b)\n",
    "stat_b, p_b"
   ]
  },
  {
   "cell_type": "code",
   "execution_count": 49,
   "metadata": {},
   "outputs": [
    {
     "name": "stdout",
     "output_type": "stream",
     "text": [
      "\n",
      "Результаты теста Шапиро-Уилка:\n",
      "\n",
      "Группа A:\n",
      "- Статистика: 0.7353\n",
      "- p-value: 0.0000\n",
      "- Нормальность: Распределение не нормально\n",
      "\n",
      "Группа B:\n",
      "- Статистика: 0.8673\n",
      "- p-value: 0.0000\n",
      "- Нормальность: Распределение не нормально\n",
      "\n"
     ]
    }
   ],
   "source": [
    "print(f\"\"\"\n",
    "Результаты теста Шапиро-Уилка:\n",
    "\n",
    "Группа A:\n",
    "- Статистика: {stat_a:.4f}\n",
    "- p-value: {p_a:.4f}\n",
    "- Нормальность: {'Распределение нормально' if p_a > 0.05 else 'Распределение не нормально'}\n",
    "\n",
    "Группа B:\n",
    "- Статистика: {stat_b:.4f}\n",
    "- p-value: {p_b:.4f}\n",
    "- Нормальность: {'Распределение нормально' if p_b > 0.05 else 'Распределение не нормально'}\n",
    "\"\"\")"
   ]
  },
  {
   "cell_type": "markdown",
   "metadata": {},
   "source": [
    "В результате теста Шапиро-Уилка принимается альтернативная гипотеза о ненормальности данных во всех группах, так как и p-значение < 0,05 и статистика, измеряющая степень отклонения от нормального меньше единицы.\n"
   ]
  },
  {
   "cell_type": "markdown",
   "metadata": {},
   "source": [
    "\n",
    "Теперь перейдем к проверке условия равенства дисперсий.\n",
    "\n",
    "Критерии для проверки гипотез о дисперсиях\n",
    "\n",
    "- F-тест (критерий Фишера)\n",
    "\n",
    "  - Сравнивает дисперсии двух выборок.\n",
    "\n",
    "  - Условия: нормальное распределение.\n",
    "\n",
    "- Критерий Бартлетта / Левена\n",
    "\n",
    "  - Проверяет равенство дисперсий нескольких выборок.\n",
    "\n",
    "  - Бартлетт чувствителен к отклонениям от нормальности, Левен более устойчив\n",
    "  \n",
    "На основе теоретической справки, для проверки равенства дисперсий будем использовать критерий Левена, так как распределение данных ненормально.\n",
    "\n",
    "Нулевая гипотеза - дисперсии двух групп равны\n",
    "\n",
    "Альтернативная гипотеза - дисперсии двух групп не равны"
   ]
  },
  {
   "cell_type": "code",
   "execution_count": 55,
   "metadata": {},
   "outputs": [],
   "source": [
    "from scipy.stats import levene"
   ]
  },
  {
   "cell_type": "code",
   "execution_count": 56,
   "metadata": {},
   "outputs": [],
   "source": [
    "# Выделяем данные по группам (только платящие пользователи)\n",
    "group_a_l = general_table[(general_table['grp'] == 'A') & (general_table['rev'] > 0)]['rev']\n",
    "group_b_l = general_table[(general_table['grp'] == 'B') & (general_table['rev'] > 0)]['rev']\n"
   ]
  },
  {
   "cell_type": "code",
   "execution_count": 57,
   "metadata": {},
   "outputs": [],
   "source": [
    "# Проводим тест Левена\n",
    "stat, p_value = levene(group_a, group_b, center='median')  # Используем медиану как центр (более устойчивый вариант)"
   ]
  },
  {
   "cell_type": "code",
   "execution_count": 58,
   "metadata": {},
   "outputs": [
    {
     "name": "stdout",
     "output_type": "stream",
     "text": [
      "Результаты теста Левена:\n",
      "- Статистика: 1.6546\n",
      "- p-value: 0.1992\n",
      "- Заключение: Не отвергаем H₀ (дисперсии равны)\n",
      "\n"
     ]
    }
   ],
   "source": [
    "print(f\"\"\"Результаты теста Левена:\n",
    "- Статистика: {stat:.4f}\n",
    "- p-value: {p_value:.4f}\n",
    "- Заключение: {'Не отвергаем H₀ (дисперсии равны)' if p_value > 0.05 else 'Отвергаем H₀ (дисперсии различаются)'}\n",
    "\"\"\")"
   ]
  },
  {
   "cell_type": "markdown",
   "metadata": {},
   "source": [
    "Продублирую ещё раз тесты и условия их выбора:\n",
    "- t-критерий Стьюдента для независимых выборок\n",
    "\n",
    "   - Условия:\n",
    "\n",
    "       - Независимые выборки.\n",
    "\n",
    "       - Нормальное распределение или большой объем выборки.\n",
    "\n",
    "       - Проверка равенства дисперсий (критерий Левена или F-тест).\n",
    "\n",
    "   - Варианты:\n",
    "\n",
    "       - С равными дисперсиями (критерий Стьюдента).\n",
    "\n",
    "       - С неравными дисперсиями (критерий Уэлча).\n",
    " - U-критерий Манна-Уитни (непараметрический аналог t-теста)\n",
    "\n",
    "   - Условия:\n",
    "\n",
    "       - Ненормальное распределение.\n",
    "\n",
    "       - Независимые выборки.\n",
    "\n",
    "   - Проверяет гипотезу о равенстве медиан или сдвиге распределений.\n",
    "\n",
    "- Критерий Уилкоксона (парный непараметрический тест)\n",
    "\n",
    "   - Аналог парного t-теста для ненормальных данных.\n",
    "         \n",
    "         \n",
    "Что мы имеем: ненормальное распределение данных, дисперсии равны. \n",
    "\n",
    "t-тест устойчив к отклонениям от нормальности, если:\n",
    "\n",
    "- Размер выборки достаточно большой (обычно n>=30 для каждой группы).\n",
    "\n",
    "В нашем случае:\n",
    "\n",
    "\n",
    "Группа A: 78 пользователей.\n",
    "\n",
    "\n",
    "Группа B: 279 пользователей.\n",
    "\n",
    "\n",
    "Условие выполняется.\n",
    "\n",
    "Распределения не сильно искажены, так как ранее удалили аномалии (rev = 1900.0001), поэтому проблема минимизирована\n",
    "\n",
    "Поэтому для проверки статистической значимости будем использовать - t-критерий Стьюдента для независимых выборок (критерий Стьюдента так как дисперсии равны)\n",
    "\n",
    "\n",
    "Ранее были выбраны две мерки для проверки - CR и ARPPU\n",
    "\n",
    "Сформулируем гипотезы для Conversion Rate (CR):\n",
    "\n",
    "Нулевая гипотеза - конверсия в группах А и В одинакова\n",
    "\n",
    "Альтернативная гипотеза - конверсия в группах А и В различается"
   ]
  },
  {
   "cell_type": "code",
   "execution_count": 59,
   "metadata": {},
   "outputs": [],
   "source": [
    "cr_data = general_table.assign(converted=lambda x: (x['rev'] > 0).astype(int))\n",
    "cr_test = pg.ttest(\n",
    "    x=cr_data[cr_data['grp'] == 'A']['converted'],\n",
    "    y=cr_data[cr_data['grp'] == 'B']['converted'],\n",
    "    correction=False)  # Поправка Уэлча не нужна, т.к. дисперсии равны\n"
   ]
  },
  {
   "cell_type": "markdown",
   "metadata": {},
   "source": [
    "Сформулируем гипотезы для метрики ARPPU (только платящие пользователи):\n",
    "\n",
    "Нулевая гипотеза - Средний доход на платящего пользователя в группах А и В одинаковый\n",
    "\n",
    "Альтернативная гипотеза - Средний доход на платящего пользователя в группах А и В различается"
   ]
  },
  {
   "cell_type": "code",
   "execution_count": 67,
   "metadata": {},
   "outputs": [],
   "source": [
    "paying_users = general_table[general_table['rev'] > 0]\n",
    "arppu_test = pg.ttest(\n",
    "    x=paying_users[paying_users['grp'] == 'A']['rev'],\n",
    "    y=paying_users[paying_users['grp'] == 'B']['rev'],\n",
    "    correction=False)"
   ]
  },
  {
   "cell_type": "code",
   "execution_count": 68,
   "metadata": {},
   "outputs": [
    {
     "name": "stdout",
     "output_type": "stream",
     "text": [
      "Результаты t-теста для Conversion Rate:\n",
      " \n",
      "             T   dof alternative   p-val         CI95%  cohen-d   BF10   power\n",
      "T-test  1.6981  8339   two-sided  0.0895  [-0.0, 0.02]   0.0479  0.134  0.3968\n",
      " \n",
      " \n",
      "\n",
      "Результаты t-теста для ARPPU:\n",
      " \n",
      "             T  dof alternative   p-val              CI95%  cohen-d   BF10  \\\n",
      "T-test -2.2921  355   two-sided  0.0225  [-452.86, -34.61]   0.2936  1.664   \n",
      "\n",
      "         power  \n",
      "T-test  0.6278  \n"
     ]
    }
   ],
   "source": [
    "print(\"Результаты t-теста для Conversion Rate:\")\n",
    "print(\" \")\n",
    "print(cr_test.round(4))\n",
    "print(\" \")\n",
    "print(\" \")\n",
    "print(\"\\nРезультаты t-теста для ARPPU:\")\n",
    "print(\" \")\n",
    "print(arppu_test.round(4))"
   ]
  },
  {
   "cell_type": "markdown",
   "metadata": {},
   "source": [
    "Объяснение полученных результатов\n",
    "\n",
    "Conversion Rate (CR):\n",
    "\n",
    "- Статистическая значимость: p-value = 0.0895 (> 0.05) - нет статистически значимых различий в конверсии между группами.\n",
    "- Размер эффекта: Cohen's d = 0.0479 (< 0.2 — эффект отсутствует) - Даже если бы p-value был значимым, разница минимальна.\n",
    "- Доверительный интервал: CI95% включает 0 (от -0.0 до 0.02)- разница может колебаться от нуля до 2% в пользу группы B.\n",
    "\n",
    "Вывод: новая механика оплаты не повлияла на вероятность совершения платежа пользователями.\n",
    "\n",
    "\n",
    "ARPPU (Average Revenue Per Paying User):\n",
    "\n",
    "- Статистическая значимость: p-value = 0.0225 (< 0.05) - различия статистически значимы.\n",
    "- Размер эффекта: Cohen's d = 0.2936 (~ 0.3 — малый эффект) - практическая значимость под вопросом.\n",
    "- Доверительный интервал: CI95% = [- 452.86, - 34.61]  - средний чек в группе B выше на 35–453, чем в группе A.\n",
    "\n",
    "Вывод: новая механика оплаты немного увеличила средний чек, но эффект имеет малый размер и практическая значимость "
   ]
  },
  {
   "cell_type": "markdown",
   "metadata": {},
   "source": [
    "Новая механика оплаты не повлияла на конверсию (p = 0.089), но увеличила средний чек на 35–453 (p = 0.022). Однако эффект мал (Cohen's d = 0.29), и решение о запуске должно учитывать:\n",
    "\n",
    "- Окупаемость внедрения\n",
    "- Долгосрочную стабильность эффекта. Рекомендуется расширить период тестирования.\n",
    "\n",
    "По текущим полученным результатам внедрять новую механику оплаты не рекомендуется."
   ]
  },
  {
   "cell_type": "code",
   "execution_count": null,
   "metadata": {},
   "outputs": [],
   "source": []
  }
 ],
 "metadata": {
  "kernelspec": {
   "display_name": "Python 3 (ipykernel)",
   "language": "python",
   "name": "python3"
  },
  "language_info": {
   "codemirror_mode": {
    "name": "ipython",
    "version": 3
   },
   "file_extension": ".py",
   "mimetype": "text/x-python",
   "name": "python",
   "nbconvert_exporter": "python",
   "pygments_lexer": "ipython3",
   "version": "3.13.5"
  }
 },
 "nbformat": 4,
 "nbformat_minor": 4
}
